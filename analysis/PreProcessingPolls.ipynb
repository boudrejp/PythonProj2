{
 "cells": [
  {
   "cell_type": "code",
   "execution_count": 1,
   "metadata": {
    "collapsed": true
   },
   "outputs": [],
   "source": [
    "###script to preprocess the pole data based on the R script that I created\n"
   ]
  },
  {
   "cell_type": "code",
   "execution_count": 15,
   "metadata": {},
   "outputs": [
    {
     "data": {
      "text/plain": [
       "0        6/5\n",
       "1        6/5\n",
       "2       5/30\n",
       "3       5/19\n",
       "4       5/19\n",
       "5       5/17\n",
       "6        5/1\n",
       "7       4/28\n",
       "8       4/24\n",
       "9       4/19\n",
       "10      4/13\n",
       "11      4/14\n",
       "12      4/12\n",
       "13       4/3\n",
       "14       4/2\n",
       "15      3/31\n",
       "16      3/27\n",
       "17      3/26\n",
       "18      3/22\n",
       "19      3/22\n",
       "20      3/20\n",
       "21      3/20\n",
       "22      3/20\n",
       "23      3/21\n",
       "24       3/6\n",
       "25       3/6\n",
       "26      2/27\n",
       "27      2/28\n",
       "28      2/24\n",
       "29      2/17\n",
       "       ...  \n",
       "138     9/29\n",
       "139     7/22\n",
       "140     7/20\n",
       "141     6/30\n",
       "142      6/1\n",
       "143     4/15\n",
       "144     3/30\n",
       "145      3/9\n",
       "146      3/9\n",
       "147     1/26\n",
       "148     1/23\n",
       "149     1/19\n",
       "150    12/16\n",
       "151    12/15\n",
       "152     12/9\n",
       "153     12/5\n",
       "154    11/20\n",
       "155     11/8\n",
       "156    10/31\n",
       "157     9/29\n",
       "158      9/8\n",
       "159      8/2\n",
       "160     7/21\n",
       "161     7/18\n",
       "162      5/9\n",
       "163     4/29\n",
       "164     3/30\n",
       "165      2/3\n",
       "166      1/6\n",
       "167     12/2\n",
       "Name: Date, Length: 168, dtype: object"
      ]
     },
     "execution_count": 15,
     "metadata": {},
     "output_type": "execute_result"
    }
   ],
   "source": [
    "import numpy as np\n",
    "import pandas as pd\n",
    "import re\n",
    "\n",
    "dems_2016 = pd.read_csv(\"../data/democrats2016.csv\")\n",
    "reps_2016 = pd.read_csv(\"../data/republicans2016.csv\")\n",
    "dems = dems_2016.copy()\n",
    "\n",
    "# filter down to second date\n",
    "dems[\"Date\"].str.replace(\".{3,} - \", \"\")\n",
    "\n",
    "def something(date_string):\n",
    "    second_char = date_string[1]\n",
    "    if second_char == \"/\":\n",
    "        month = date_string[0:1]\n",
    "    else:\n",
    "        month = date_string[0:2]\n",
    "    "
   ]
  },
  {
   "cell_type": "code",
   "execution_count": null,
   "metadata": {
    "collapsed": true
   },
   "outputs": [],
   "source": [
    "def preprocess_dates(df):\n",
    "    '''takes a data frame with a \"Poll\" column and processes it to include the final date. \n",
    "    useful for analyzing poll data in the context of this project\n",
    "    '''\n",
    "    # first part: we only have month - date, with no year\n",
    "    # months and days aren't in consistent format so we need to hack that together too\n",
    "    df.Poll.str."
   ]
  }
 ],
 "metadata": {
  "kernelspec": {
   "display_name": "Python 3",
   "language": "python",
   "name": "python3"
  },
  "language_info": {
   "codemirror_mode": {
    "name": "ipython",
    "version": 3
   },
   "file_extension": ".py",
   "mimetype": "text/x-python",
   "name": "python",
   "nbconvert_exporter": "python",
   "pygments_lexer": "ipython3",
   "version": "3.6.3"
  }
 },
 "nbformat": 4,
 "nbformat_minor": 2
}
