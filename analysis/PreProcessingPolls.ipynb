{
 "cells": [
  {
   "cell_type": "markdown",
   "metadata": {
    "collapsed": true
   },
   "source": [
    "script to preprocess the poll data based on the R script that I created\n",
    "```\n",
    "process.dates <- function(input.date.vect){\n",
    "  input.date.vect <- gsub(\".{3,} - \", \"\", input.date.vect)\n",
    "  current.month <- rep(NA, length(input.date.vect))\n",
    "  #need to add years to the vector\n",
    "  current.year <- 2016\n",
    "  #identify month\n",
    "  for(i in 1:length(input.date.vect)){\n",
    "    #if the second character is a slash, then the month is one digit. else, two\n",
    "    second.char <- substr(input.date.vect[i], 2, 2)\n",
    "    if(second.char == \"/\"){\n",
    "      current.month[i] = substr(input.date.vect[i], 1, 1)\n",
    "    } else {\n",
    "      current.month[i] = substr(input.date.vect[i], 1, 2)\n",
    "    }\n",
    "    # if the month of the previous entry is greater, then knock down the year one\n",
    "    if(i > 1){\n",
    "      if(current.month[i] > current.month[i - 1]){\n",
    "        current.year <- current.year - 1\n",
    "      }\n",
    "    }\n",
    "    input.date.vect[i] = paste0(input.date.vect[i], \"/\", current.year)\n",
    "  }\n",
    "  input.date.vect <- gsub(\"/\", \"-\", input.date.vect)\n",
    "  #add zeros where necessary\n",
    "  input.date.vect <- sub(\"^([0-9]{1})-\", \"0\\\\1-\", input.date.vect)\n",
    "  input.date.vect <- sub(\"-([0-9]{1})-\", \"-0\\\\1-\", input.date.vect)\n",
    "  return(input.date.vect)\n",
    "}\n",
    "\n",
    "reps$Date <- as.POSIXct(as.Date(process.dates(reps$Date), \"%m-%d-%Y\"))\n",
    "dems$Date <- as.POSIXct(as.Date(process.dates(dems$Date), \"%m-%d-%Y\"))\n",
    "\n",
    "min.clinton <- min(dems$Date[dems$Clinton != \"--\"])\n",
    "max.clinton <- max(dems$Date[dems$Clinton != \"--\"])\n",
    "min.bernie <- min(dems$Date[dems$Sanders != \"--\"])\n",
    "max.bernie <- max(dems$Date[dems$Sanders != \"--\"])\n",
    "min.trump <- min(reps$Date[reps$Trump != \"--\"])\n",
    "max.trump <- max(reps$Date[reps$Trump != \"--\"])\n",
    "min.cruz <- min(reps$Date[reps$Cruz != \"--\"])\n",
    "max.cruz <- max(reps$Date[reps$Cruz != \"--\"])\n",
    "min.kasich <- min(reps$Date[reps$Kasich != \"--\"])\n",
    "max.kasich <- max(reps$Date[reps$Kasich != \"--\"])\n",
    "\n",
    "len.clinton <- max.clinton - min.clinton\n",
    "len.bernie <- max.bernie - min.bernie\n",
    "len.trump <- max.trump - min.trump\n",
    "len.cruz <- max.cruz - min.cruz\n",
    "len.kasich <- max.kasich - min.kasich\n",
    "\n",
    "candidate.data.frame <- data.frame(campaign.length = as.numeric(c(len.clinton, len.bernie, len.trump, len.cruz, len.kasich)))\n",
    "rownames(candidate.data.frame) <- c(\"Clinton\", \"Sanders\", \"Trump\", \"Cruz\", \"Kasich\")\n",
    "# take the lyric data and add the mentions per candidate for data to create a scatterplot\n",
    "\n",
    "candidate.data.frame$mentions <- NA\n",
    "candidate.data.frame$mentions[1] <- sum(lyrics$candidate == \"Hillary Clinton\")\n",
    "candidate.data.frame$mentions[2] <- sum(lyrics$candidate == \"Bernie Sanders\")\n",
    "candidate.data.frame$mentions[3] <- sum(lyrics$candidate == \"Donald Trump\")\n",
    "candidate.data.frame$mentions[4] <- sum(lyrics$candidate == \"Ted Cruz\")\n",
    "candidate.data.frame$mentions[5] <- sum(lyrics$candidate == \"John Kasich\")\n",
    "```"
   ]
  },
  {
   "cell_type": "code",
   "execution_count": 116,
   "metadata": {
    "collapsed": true
   },
   "outputs": [],
   "source": [
    "# author: John Boudreaux\n",
    "\n",
    "import numpy as np\n",
    "import pandas as pd\n",
    "import re\n",
    "\n",
    "\n",
    "dems_2016 = pd.read_csv(\"../data/democrats2016.csv\")\n",
    "reps_2016 = pd.read_csv(\"../data/republicans2016.csv\")\n",
    "dems = dems_2016.copy()\n",
    "\n",
    "\n",
    "def get_current_month(string_val):\n",
    "    ''' for date objects, will retreive the first or second value before a slash'''\n",
    "    if string_val[1] == \"/\":\n",
    "        return(int(string_val[0:1]))\n",
    "    else:\n",
    "        return(int(string_val[0:2]))\n",
    "    \n",
    "def get_day(string_val):\n",
    "    ''' for preprocessed dates, retreive the day (comes after month and slash)'''\n",
    "    # find where the slash is\n",
    "    slash_index = string_val.index(\"/\")\n",
    "    return(int(string_val[slash_index+1:]))\n",
    "    \n",
    "    \n",
    " \n",
    "\n",
    "def fix_dates(old_df):\n",
    "    ''' function to preprocess the 2016 poll data to give usable datetime objects'''\n",
    "    df = old_df\n",
    "    df[\"preprocessDate\"] = df.Date.str.replace(\".{3,} - \", \"\")\n",
    "    df[\"month\"] = df.preprocessDate.apply(lambda x : get_current_month(x))\n",
    "    year = 2016\n",
    "    years = []\n",
    "    # we need to go and loop through each of the months to figure out which year we need to use\n",
    "    # if the next month is greater than the previous one, we know we went down a year\n",
    "    for i in range(len(df.month)):\n",
    "        if i > 0:\n",
    "            if df.month[i] > df.month[i-1]:\n",
    "                year -= 1\n",
    "        years.append(year)\n",
    "    df[\"year\"] = years\n",
    "    df[\"day\"] = df.preprocessDate.apply(lambda x : get_day(x))\n",
    "    df[\"newDate\"] = pd.to_datetime(df[['day', 'month', 'year']])\n",
    "    \n",
    "    columns = ['Date', 'preprocessDate', 'month', 'day', 'year']\n",
    "    df.drop(columns, inplace=True, axis=1)\n",
    "\n",
    "    return(df)\n",
    "\n",
    "def replace_dashes(df):\n",
    "    df.replace('--', np.nan, inplace = True)\n",
    "    return(df)\n",
    "\n",
    "def preprocess_poll_data(df):\n",
    "    new_df = df\n",
    "    new_df = fix_dates(new_df)\n",
    "    new_df = replace_dashes(new_df)\n",
    "    return(new_df)\n",
    "\n",
    "new_dems = preprocess_poll_data(dems_2016)\n",
    "new_reps = preprocess_poll_data(reps_2016)\n",
    "\n",
    "new_dems.to_csv(\"../data/PreProcessedDemPolls.csv\")\n",
    "new_reps.to_csv(\"../data/PreProcessedRepPolls.csv\")"
   ]
  },
  {
   "cell_type": "markdown",
   "metadata": {
    "collapsed": true
   },
   "source": [
    "### Sanity checks\n",
    "__Democratic polling data__\n",
    "* Since we are only using this for the dates that each candidate was in the running in the primaries, we will focus primarily on the dates and polling numbers for the candidates"
   ]
  },
  {
   "cell_type": "code",
   "execution_count": 117,
   "metadata": {},
   "outputs": [
    {
     "data": {
      "text/html": [
       "<div>\n",
       "<style>\n",
       "    .dataframe thead tr:only-child th {\n",
       "        text-align: right;\n",
       "    }\n",
       "\n",
       "    .dataframe thead th {\n",
       "        text-align: left;\n",
       "    }\n",
       "\n",
       "    .dataframe tbody tr th {\n",
       "        vertical-align: top;\n",
       "    }\n",
       "</style>\n",
       "<table border=\"1\" class=\"dataframe\">\n",
       "  <thead>\n",
       "    <tr style=\"text-align: right;\">\n",
       "      <th></th>\n",
       "      <th>Poll</th>\n",
       "      <th>Sample</th>\n",
       "      <th>MoE</th>\n",
       "      <th>Clinton</th>\n",
       "      <th>Sanders</th>\n",
       "      <th>Spread</th>\n",
       "      <th>newDate</th>\n",
       "    </tr>\n",
       "  </thead>\n",
       "  <tbody>\n",
       "    <tr>\n",
       "      <th>0</th>\n",
       "      <td>RCP Average</td>\n",
       "      <td>NaN</td>\n",
       "      <td>NaN</td>\n",
       "      <td>52.8</td>\n",
       "      <td>41.4</td>\n",
       "      <td>Clinton +11.4</td>\n",
       "      <td>2016-06-05</td>\n",
       "    </tr>\n",
       "    <tr>\n",
       "      <th>1</th>\n",
       "      <td>IBD/TIPP</td>\n",
       "      <td>351 RV</td>\n",
       "      <td>5.3</td>\n",
       "      <td>51.0</td>\n",
       "      <td>37</td>\n",
       "      <td>Clinton +14</td>\n",
       "      <td>2016-06-05</td>\n",
       "    </tr>\n",
       "    <tr>\n",
       "      <th>2</th>\n",
       "      <td>Quinnipiac</td>\n",
       "      <td>678 RV</td>\n",
       "      <td>3.8</td>\n",
       "      <td>53.0</td>\n",
       "      <td>39</td>\n",
       "      <td>Clinton +14</td>\n",
       "      <td>2016-05-30</td>\n",
       "    </tr>\n",
       "    <tr>\n",
       "      <th>3</th>\n",
       "      <td>ABC News/Wash Post</td>\n",
       "      <td>373 RV</td>\n",
       "      <td>NaN</td>\n",
       "      <td>56.0</td>\n",
       "      <td>42</td>\n",
       "      <td>Clinton +14</td>\n",
       "      <td>2016-05-19</td>\n",
       "    </tr>\n",
       "    <tr>\n",
       "      <th>4</th>\n",
       "      <td>NBC News/Wall St. Jrnl</td>\n",
       "      <td>342 LV</td>\n",
       "      <td>5.3</td>\n",
       "      <td>53.0</td>\n",
       "      <td>45</td>\n",
       "      <td>Clinton +8</td>\n",
       "      <td>2016-05-19</td>\n",
       "    </tr>\n",
       "  </tbody>\n",
       "</table>\n",
       "</div>"
      ],
      "text/plain": [
       "                     Poll  Sample  MoE  Clinton Sanders         Spread  \\\n",
       "0             RCP Average     NaN  NaN     52.8    41.4  Clinton +11.4   \n",
       "1                IBD/TIPP  351 RV  5.3     51.0      37    Clinton +14   \n",
       "2              Quinnipiac  678 RV  3.8     53.0      39    Clinton +14   \n",
       "3      ABC News/Wash Post  373 RV  NaN     56.0      42    Clinton +14   \n",
       "4  NBC News/Wall St. Jrnl  342 LV  5.3     53.0      45     Clinton +8   \n",
       "\n",
       "     newDate  \n",
       "0 2016-06-05  \n",
       "1 2016-06-05  \n",
       "2 2016-05-30  \n",
       "3 2016-05-19  \n",
       "4 2016-05-19  "
      ]
     },
     "execution_count": 117,
     "metadata": {},
     "output_type": "execute_result"
    }
   ],
   "source": [
    "new_dems.head()"
   ]
  },
  {
   "cell_type": "code",
   "execution_count": 118,
   "metadata": {},
   "outputs": [
    {
     "data": {
      "text/html": [
       "<div>\n",
       "<style>\n",
       "    .dataframe thead tr:only-child th {\n",
       "        text-align: right;\n",
       "    }\n",
       "\n",
       "    .dataframe thead th {\n",
       "        text-align: left;\n",
       "    }\n",
       "\n",
       "    .dataframe tbody tr th {\n",
       "        vertical-align: top;\n",
       "    }\n",
       "</style>\n",
       "<table border=\"1\" class=\"dataframe\">\n",
       "  <thead>\n",
       "    <tr style=\"text-align: right;\">\n",
       "      <th></th>\n",
       "      <th>Poll</th>\n",
       "      <th>Sample</th>\n",
       "      <th>MoE</th>\n",
       "      <th>Clinton</th>\n",
       "      <th>Sanders</th>\n",
       "      <th>Spread</th>\n",
       "      <th>newDate</th>\n",
       "    </tr>\n",
       "  </thead>\n",
       "  <tbody>\n",
       "    <tr>\n",
       "      <th>1</th>\n",
       "      <td>IBD/TIPP</td>\n",
       "      <td>351 RV</td>\n",
       "      <td>5.3</td>\n",
       "      <td>51.0</td>\n",
       "      <td>37</td>\n",
       "      <td>Clinton +14</td>\n",
       "      <td>2016-06-05</td>\n",
       "    </tr>\n",
       "    <tr>\n",
       "      <th>2</th>\n",
       "      <td>Quinnipiac</td>\n",
       "      <td>678 RV</td>\n",
       "      <td>3.8</td>\n",
       "      <td>53.0</td>\n",
       "      <td>39</td>\n",
       "      <td>Clinton +14</td>\n",
       "      <td>2016-05-30</td>\n",
       "    </tr>\n",
       "    <tr>\n",
       "      <th>3</th>\n",
       "      <td>ABC News/Wash Post</td>\n",
       "      <td>373 RV</td>\n",
       "      <td>NaN</td>\n",
       "      <td>56.0</td>\n",
       "      <td>42</td>\n",
       "      <td>Clinton +14</td>\n",
       "      <td>2016-05-19</td>\n",
       "    </tr>\n",
       "    <tr>\n",
       "      <th>4</th>\n",
       "      <td>NBC News/Wall St. Jrnl</td>\n",
       "      <td>342 LV</td>\n",
       "      <td>5.3</td>\n",
       "      <td>53.0</td>\n",
       "      <td>45</td>\n",
       "      <td>Clinton +8</td>\n",
       "      <td>2016-05-19</td>\n",
       "    </tr>\n",
       "    <tr>\n",
       "      <th>5</th>\n",
       "      <td>CBS News/NY Times</td>\n",
       "      <td>371 LV</td>\n",
       "      <td>6</td>\n",
       "      <td>51.0</td>\n",
       "      <td>44</td>\n",
       "      <td>Clinton +7</td>\n",
       "      <td>2016-05-17</td>\n",
       "    </tr>\n",
       "  </tbody>\n",
       "</table>\n",
       "</div>"
      ],
      "text/plain": [
       "                     Poll  Sample  MoE  Clinton Sanders       Spread  \\\n",
       "1                IBD/TIPP  351 RV  5.3     51.0      37  Clinton +14   \n",
       "2              Quinnipiac  678 RV  3.8     53.0      39  Clinton +14   \n",
       "3      ABC News/Wash Post  373 RV  NaN     56.0      42  Clinton +14   \n",
       "4  NBC News/Wall St. Jrnl  342 LV  5.3     53.0      45   Clinton +8   \n",
       "5       CBS News/NY Times  371 LV    6     51.0      44   Clinton +7   \n",
       "\n",
       "     newDate  \n",
       "1 2016-06-05  \n",
       "2 2016-05-30  \n",
       "3 2016-05-19  \n",
       "4 2016-05-19  \n",
       "5 2016-05-17  "
      ]
     },
     "execution_count": 118,
     "metadata": {},
     "output_type": "execute_result"
    }
   ],
   "source": [
    "# the RCP average is going to throw off our results... since this is the overall average of all polls\n",
    "# need to take it out\n",
    "new_dems.drop(new_dems.index[0], inplace = True)\n",
    "new_dems.reset_index()\n",
    "new_dems.head()"
   ]
  },
  {
   "cell_type": "code",
   "execution_count": 119,
   "metadata": {},
   "outputs": [
    {
     "data": {
      "text/plain": [
       "167"
      ]
     },
     "execution_count": 119,
     "metadata": {},
     "output_type": "execute_result"
    }
   ],
   "source": [
    "new_dems.shape[0] # this is how many rows we have..."
   ]
  },
  {
   "cell_type": "code",
   "execution_count": 120,
   "metadata": {},
   "outputs": [
    {
     "data": {
      "text/plain": [
       "count    167.000000\n",
       "mean      55.287425\n",
       "std        7.780189\n",
       "min       33.000000\n",
       "25%       50.000000\n",
       "50%       55.000000\n",
       "75%       61.000000\n",
       "max       75.000000\n",
       "Name: Clinton, dtype: float64"
      ]
     },
     "execution_count": 120,
     "metadata": {},
     "output_type": "execute_result"
    }
   ],
   "source": [
    "# check the Clinton column\n",
    "new_dems.Clinton.describe()\n",
    "#seems ok, no negative vals or vals greater than 100"
   ]
  },
  {
   "cell_type": "code",
   "execution_count": 121,
   "metadata": {},
   "outputs": [
    {
     "data": {
      "text/plain": [
       "0"
      ]
     },
     "execution_count": 121,
     "metadata": {},
     "output_type": "execute_result"
    }
   ],
   "source": [
    "new_dems.Clinton.isnull().sum()"
   ]
  },
  {
   "cell_type": "code",
   "execution_count": 122,
   "metadata": {},
   "outputs": [
    {
     "data": {
      "text/plain": [
       "count     138\n",
       "unique     48\n",
       "top         4\n",
       "freq        7\n",
       "Name: Sanders, dtype: object"
      ]
     },
     "execution_count": 122,
     "metadata": {},
     "output_type": "execute_result"
    }
   ],
   "source": [
    "# check Sanders column\n",
    "new_dems.Sanders.describe()"
   ]
  },
  {
   "cell_type": "code",
   "execution_count": 123,
   "metadata": {},
   "outputs": [
    {
     "data": {
      "text/plain": [
       "29"
      ]
     },
     "execution_count": 123,
     "metadata": {},
     "output_type": "execute_result"
    }
   ],
   "source": [
    "new_dems.Sanders.isnull().sum()"
   ]
  },
  {
   "cell_type": "code",
   "execution_count": 124,
   "metadata": {},
   "outputs": [
    {
     "data": {
      "text/plain": [
       "136   2014-11-21\n",
       "139   2014-07-22\n",
       "140   2014-07-20\n",
       "141   2014-06-30\n",
       "143   2014-04-15\n",
       "144   2014-03-30\n",
       "145   2014-03-09\n",
       "146   2014-03-09\n",
       "147   2014-01-26\n",
       "148   2014-01-23\n",
       "149   2014-01-19\n",
       "150   2013-12-16\n",
       "151   2013-12-15\n",
       "152   2013-12-09\n",
       "153   2013-12-05\n",
       "154   2013-11-20\n",
       "155   2013-11-08\n",
       "156   2013-10-31\n",
       "157   2013-09-29\n",
       "158   2013-09-08\n",
       "159   2013-08-02\n",
       "160   2013-07-21\n",
       "161   2013-07-18\n",
       "162   2013-05-09\n",
       "163   2013-04-29\n",
       "164   2013-03-30\n",
       "165   2013-02-03\n",
       "166   2013-01-06\n",
       "167   2012-12-02\n",
       "Name: newDate, dtype: datetime64[ns]"
      ]
     },
     "execution_count": 124,
     "metadata": {},
     "output_type": "execute_result"
    }
   ],
   "source": [
    "new_dems.newDate[new_dems.Sanders.isnull()]\n",
    "# in general, sanders wasn't in the race before 11/2014 is what we will say"
   ]
  },
  {
   "cell_type": "code",
   "execution_count": 125,
   "metadata": {},
   "outputs": [
    {
     "data": {
      "text/plain": [
       "count    138.000000\n",
       "mean      26.246377\n",
       "std       13.908886\n",
       "min        1.000000\n",
       "25%       15.000000\n",
       "50%       29.000000\n",
       "75%       37.750000\n",
       "max       49.000000\n",
       "Name: Sanders, dtype: float64"
      ]
     },
     "execution_count": 125,
     "metadata": {},
     "output_type": "execute_result"
    }
   ],
   "source": [
    "# seems like pandas thinks this is a categorical variable.\n",
    "pd.to_numeric(new_dems.Sanders).describe()\n",
    "# this seems much better. count is less than 168 which we expect b/c he was not in race as long\n",
    "# no vals above 100, below 0"
   ]
  },
  {
   "cell_type": "code",
   "execution_count": 126,
   "metadata": {},
   "outputs": [
    {
     "data": {
      "text/plain": [
       "count                     167\n",
       "unique                    139\n",
       "top       2015-10-18 00:00:00\n",
       "freq                        3\n",
       "first     2012-12-02 00:00:00\n",
       "last      2016-06-05 00:00:00\n",
       "Name: newDate, dtype: object"
      ]
     },
     "execution_count": 126,
     "metadata": {},
     "output_type": "execute_result"
    }
   ],
   "source": [
    "# check on the newDate column\n",
    "new_dems.newDate.describe()\n",
    "# again, this is treated as a factor.. let's look at head/tail"
   ]
  },
  {
   "cell_type": "code",
   "execution_count": 127,
   "metadata": {},
   "outputs": [
    {
     "data": {
      "text/plain": [
       "163   2013-04-29\n",
       "164   2013-03-30\n",
       "165   2013-02-03\n",
       "166   2013-01-06\n",
       "167   2012-12-02\n",
       "Name: newDate, dtype: datetime64[ns]"
      ]
     },
     "execution_count": 127,
     "metadata": {},
     "output_type": "execute_result"
    }
   ],
   "source": [
    "new_dems.newDate.tail()"
   ]
  },
  {
   "cell_type": "code",
   "execution_count": 128,
   "metadata": {},
   "outputs": [
    {
     "data": {
      "text/plain": [
       "1   2016-06-05\n",
       "2   2016-05-30\n",
       "3   2016-05-19\n",
       "4   2016-05-19\n",
       "5   2016-05-17\n",
       "Name: newDate, dtype: datetime64[ns]"
      ]
     },
     "execution_count": 128,
     "metadata": {},
     "output_type": "execute_result"
    }
   ],
   "source": [
    "new_dems.newDate.head()"
   ]
  },
  {
   "cell_type": "code",
   "execution_count": 129,
   "metadata": {},
   "outputs": [
    {
     "data": {
      "text/plain": [
       "0"
      ]
     },
     "execution_count": 129,
     "metadata": {},
     "output_type": "execute_result"
    }
   ],
   "source": [
    "new_dems.newDate.isnull().sum()"
   ]
  },
  {
   "cell_type": "markdown",
   "metadata": {},
   "source": [
    "__Republican polling data__\n",
    "* Since we are only using this for the dates that each candidate was in the running in the primaries, we will focus primarily on the dates and polling numbers for the candidates"
   ]
  },
  {
   "cell_type": "code",
   "execution_count": 130,
   "metadata": {},
   "outputs": [
    {
     "data": {
      "text/html": [
       "<div>\n",
       "<style>\n",
       "    .dataframe thead tr:only-child th {\n",
       "        text-align: right;\n",
       "    }\n",
       "\n",
       "    .dataframe thead th {\n",
       "        text-align: left;\n",
       "    }\n",
       "\n",
       "    .dataframe tbody tr th {\n",
       "        vertical-align: top;\n",
       "    }\n",
       "</style>\n",
       "<table border=\"1\" class=\"dataframe\">\n",
       "  <thead>\n",
       "    <tr style=\"text-align: right;\">\n",
       "      <th></th>\n",
       "      <th>Poll</th>\n",
       "      <th>Sample</th>\n",
       "      <th>Trump</th>\n",
       "      <th>Cruz</th>\n",
       "      <th>Kasich</th>\n",
       "      <th>Spread</th>\n",
       "      <th>newDate</th>\n",
       "    </tr>\n",
       "  </thead>\n",
       "  <tbody>\n",
       "    <tr>\n",
       "      <th>0</th>\n",
       "      <td>RCP Average</td>\n",
       "      <td>NaN</td>\n",
       "      <td>46.5</td>\n",
       "      <td>27</td>\n",
       "      <td>18</td>\n",
       "      <td>Trump +19.5</td>\n",
       "      <td>2016-05-01</td>\n",
       "    </tr>\n",
       "    <tr>\n",
       "      <th>1</th>\n",
       "      <td>CNN/ORC</td>\n",
       "      <td>406 LV</td>\n",
       "      <td>49</td>\n",
       "      <td>25</td>\n",
       "      <td>19</td>\n",
       "      <td>Trump +24</td>\n",
       "      <td>2016-05-01</td>\n",
       "    </tr>\n",
       "    <tr>\n",
       "      <th>2</th>\n",
       "      <td>IBD/TIPP</td>\n",
       "      <td>397 RV</td>\n",
       "      <td>48</td>\n",
       "      <td>29</td>\n",
       "      <td>16</td>\n",
       "      <td>Trump +19</td>\n",
       "      <td>2016-04-28</td>\n",
       "    </tr>\n",
       "    <tr>\n",
       "      <th>3</th>\n",
       "      <td>USA Today/Suffolk</td>\n",
       "      <td>292 LV</td>\n",
       "      <td>45</td>\n",
       "      <td>29</td>\n",
       "      <td>17</td>\n",
       "      <td>Trump +16</td>\n",
       "      <td>2016-04-24</td>\n",
       "    </tr>\n",
       "    <tr>\n",
       "      <th>4</th>\n",
       "      <td>Pew Research</td>\n",
       "      <td>740 RV</td>\n",
       "      <td>44</td>\n",
       "      <td>25</td>\n",
       "      <td>20</td>\n",
       "      <td>Trump +19</td>\n",
       "      <td>2016-04-19</td>\n",
       "    </tr>\n",
       "  </tbody>\n",
       "</table>\n",
       "</div>"
      ],
      "text/plain": [
       "                Poll  Sample Trump Cruz Kasich       Spread    newDate\n",
       "0        RCP Average     NaN  46.5   27     18  Trump +19.5 2016-05-01\n",
       "1            CNN/ORC  406 LV    49   25     19    Trump +24 2016-05-01\n",
       "2           IBD/TIPP  397 RV    48   29     16    Trump +19 2016-04-28\n",
       "3  USA Today/Suffolk  292 LV    45   29     17    Trump +16 2016-04-24\n",
       "4       Pew Research  740 RV    44   25     20    Trump +19 2016-04-19"
      ]
     },
     "execution_count": 130,
     "metadata": {},
     "output_type": "execute_result"
    }
   ],
   "source": [
    "new_reps.head()"
   ]
  },
  {
   "cell_type": "code",
   "execution_count": 131,
   "metadata": {},
   "outputs": [
    {
     "data": {
      "text/html": [
       "<div>\n",
       "<style>\n",
       "    .dataframe thead tr:only-child th {\n",
       "        text-align: right;\n",
       "    }\n",
       "\n",
       "    .dataframe thead th {\n",
       "        text-align: left;\n",
       "    }\n",
       "\n",
       "    .dataframe tbody tr th {\n",
       "        vertical-align: top;\n",
       "    }\n",
       "</style>\n",
       "<table border=\"1\" class=\"dataframe\">\n",
       "  <thead>\n",
       "    <tr style=\"text-align: right;\">\n",
       "      <th></th>\n",
       "      <th>Poll</th>\n",
       "      <th>Sample</th>\n",
       "      <th>Trump</th>\n",
       "      <th>Cruz</th>\n",
       "      <th>Kasich</th>\n",
       "      <th>Spread</th>\n",
       "      <th>newDate</th>\n",
       "    </tr>\n",
       "  </thead>\n",
       "  <tbody>\n",
       "    <tr>\n",
       "      <th>1</th>\n",
       "      <td>CNN/ORC</td>\n",
       "      <td>406 LV</td>\n",
       "      <td>49</td>\n",
       "      <td>25</td>\n",
       "      <td>19</td>\n",
       "      <td>Trump +24</td>\n",
       "      <td>2016-05-01</td>\n",
       "    </tr>\n",
       "    <tr>\n",
       "      <th>2</th>\n",
       "      <td>IBD/TIPP</td>\n",
       "      <td>397 RV</td>\n",
       "      <td>48</td>\n",
       "      <td>29</td>\n",
       "      <td>16</td>\n",
       "      <td>Trump +19</td>\n",
       "      <td>2016-04-28</td>\n",
       "    </tr>\n",
       "    <tr>\n",
       "      <th>3</th>\n",
       "      <td>USA Today/Suffolk</td>\n",
       "      <td>292 LV</td>\n",
       "      <td>45</td>\n",
       "      <td>29</td>\n",
       "      <td>17</td>\n",
       "      <td>Trump +16</td>\n",
       "      <td>2016-04-24</td>\n",
       "    </tr>\n",
       "    <tr>\n",
       "      <th>4</th>\n",
       "      <td>Pew Research</td>\n",
       "      <td>740 RV</td>\n",
       "      <td>44</td>\n",
       "      <td>25</td>\n",
       "      <td>20</td>\n",
       "      <td>Trump +19</td>\n",
       "      <td>2016-04-19</td>\n",
       "    </tr>\n",
       "    <tr>\n",
       "      <th>5</th>\n",
       "      <td>FOX News</td>\n",
       "      <td>419 RV</td>\n",
       "      <td>45</td>\n",
       "      <td>27</td>\n",
       "      <td>25</td>\n",
       "      <td>Trump +18</td>\n",
       "      <td>2016-04-13</td>\n",
       "    </tr>\n",
       "  </tbody>\n",
       "</table>\n",
       "</div>"
      ],
      "text/plain": [
       "                Poll  Sample Trump Cruz Kasich     Spread    newDate\n",
       "1            CNN/ORC  406 LV    49   25     19  Trump +24 2016-05-01\n",
       "2           IBD/TIPP  397 RV    48   29     16  Trump +19 2016-04-28\n",
       "3  USA Today/Suffolk  292 LV    45   29     17  Trump +16 2016-04-24\n",
       "4       Pew Research  740 RV    44   25     20  Trump +19 2016-04-19\n",
       "5           FOX News  419 RV    45   27     25  Trump +18 2016-04-13"
      ]
     },
     "execution_count": 131,
     "metadata": {},
     "output_type": "execute_result"
    }
   ],
   "source": [
    "#need to take out RCP average for same reasons as dems data\n",
    "new_reps.drop(new_reps.index[0], inplace = True)\n",
    "new_reps.reset_index()\n",
    "new_reps.head()"
   ]
  },
  {
   "cell_type": "code",
   "execution_count": 132,
   "metadata": {},
   "outputs": [
    {
     "data": {
      "text/plain": [
       "169"
      ]
     },
     "execution_count": 132,
     "metadata": {},
     "output_type": "execute_result"
    }
   ],
   "source": [
    "new_reps.shape[0]"
   ]
  },
  {
   "cell_type": "code",
   "execution_count": 133,
   "metadata": {},
   "outputs": [
    {
     "data": {
      "text/html": [
       "<div>\n",
       "<style>\n",
       "    .dataframe thead tr:only-child th {\n",
       "        text-align: right;\n",
       "    }\n",
       "\n",
       "    .dataframe thead th {\n",
       "        text-align: left;\n",
       "    }\n",
       "\n",
       "    .dataframe tbody tr th {\n",
       "        vertical-align: top;\n",
       "    }\n",
       "</style>\n",
       "<table border=\"1\" class=\"dataframe\">\n",
       "  <thead>\n",
       "    <tr style=\"text-align: right;\">\n",
       "      <th></th>\n",
       "      <th>Poll</th>\n",
       "      <th>Sample</th>\n",
       "      <th>Trump</th>\n",
       "      <th>Cruz</th>\n",
       "      <th>Kasich</th>\n",
       "      <th>Spread</th>\n",
       "      <th>newDate</th>\n",
       "    </tr>\n",
       "  </thead>\n",
       "  <tbody>\n",
       "    <tr>\n",
       "      <th>160</th>\n",
       "      <td>CNN/ORC</td>\n",
       "      <td>452 A</td>\n",
       "      <td>NaN</td>\n",
       "      <td>7</td>\n",
       "      <td>NaN</td>\n",
       "      <td>Christie +4</td>\n",
       "      <td>2013-09-08</td>\n",
       "    </tr>\n",
       "    <tr>\n",
       "      <th>161</th>\n",
       "      <td>Rasmussen Reports</td>\n",
       "      <td>LV</td>\n",
       "      <td>NaN</td>\n",
       "      <td>NaN</td>\n",
       "      <td>NaN</td>\n",
       "      <td>Christie +3</td>\n",
       "      <td>2013-08-02</td>\n",
       "    </tr>\n",
       "    <tr>\n",
       "      <th>162</th>\n",
       "      <td>PPP (D)</td>\n",
       "      <td>500 RV</td>\n",
       "      <td>NaN</td>\n",
       "      <td>12</td>\n",
       "      <td>NaN</td>\n",
       "      <td>Paul +3</td>\n",
       "      <td>2013-07-21</td>\n",
       "    </tr>\n",
       "    <tr>\n",
       "      <th>163</th>\n",
       "      <td>McClatchy/Marist</td>\n",
       "      <td>357 RV</td>\n",
       "      <td>NaN</td>\n",
       "      <td>7</td>\n",
       "      <td>NaN</td>\n",
       "      <td>Christie +3</td>\n",
       "      <td>2013-07-18</td>\n",
       "    </tr>\n",
       "    <tr>\n",
       "      <th>164</th>\n",
       "      <td>PPP (D)</td>\n",
       "      <td>806 RV</td>\n",
       "      <td>NaN</td>\n",
       "      <td>7</td>\n",
       "      <td>NaN</td>\n",
       "      <td>Rubio +1</td>\n",
       "      <td>2013-05-09</td>\n",
       "    </tr>\n",
       "    <tr>\n",
       "      <th>165</th>\n",
       "      <td>Quinnipiac</td>\n",
       "      <td>712 RV</td>\n",
       "      <td>NaN</td>\n",
       "      <td>NaN</td>\n",
       "      <td>NaN</td>\n",
       "      <td>Rubio +4</td>\n",
       "      <td>2013-04-01</td>\n",
       "    </tr>\n",
       "    <tr>\n",
       "      <th>166</th>\n",
       "      <td>PPP (D)</td>\n",
       "      <td>1125 RV</td>\n",
       "      <td>NaN</td>\n",
       "      <td>NaN</td>\n",
       "      <td>NaN</td>\n",
       "      <td>Rubio +4</td>\n",
       "      <td>2013-03-30</td>\n",
       "    </tr>\n",
       "    <tr>\n",
       "      <th>167</th>\n",
       "      <td>PPP (D)</td>\n",
       "      <td>508 RV</td>\n",
       "      <td>NaN</td>\n",
       "      <td>NaN</td>\n",
       "      <td>NaN</td>\n",
       "      <td>Rubio +9</td>\n",
       "      <td>2013-02-03</td>\n",
       "    </tr>\n",
       "    <tr>\n",
       "      <th>168</th>\n",
       "      <td>PPP (D)</td>\n",
       "      <td>563 RV</td>\n",
       "      <td>NaN</td>\n",
       "      <td>NaN</td>\n",
       "      <td>NaN</td>\n",
       "      <td>Rubio +6</td>\n",
       "      <td>2013-01-06</td>\n",
       "    </tr>\n",
       "    <tr>\n",
       "      <th>169</th>\n",
       "      <td>PPP (D)</td>\n",
       "      <td>475 RV</td>\n",
       "      <td>NaN</td>\n",
       "      <td>NaN</td>\n",
       "      <td>NaN</td>\n",
       "      <td>Rubio +4</td>\n",
       "      <td>2012-12-02</td>\n",
       "    </tr>\n",
       "  </tbody>\n",
       "</table>\n",
       "</div>"
      ],
      "text/plain": [
       "                  Poll   Sample Trump Cruz Kasich       Spread    newDate\n",
       "160            CNN/ORC    452 A   NaN    7    NaN  Christie +4 2013-09-08\n",
       "161  Rasmussen Reports       LV   NaN  NaN    NaN  Christie +3 2013-08-02\n",
       "162            PPP (D)   500 RV   NaN   12    NaN      Paul +3 2013-07-21\n",
       "163   McClatchy/Marist   357 RV   NaN    7    NaN  Christie +3 2013-07-18\n",
       "164            PPP (D)   806 RV   NaN    7    NaN     Rubio +1 2013-05-09\n",
       "165         Quinnipiac   712 RV   NaN  NaN    NaN     Rubio +4 2013-04-01\n",
       "166            PPP (D)  1125 RV   NaN  NaN    NaN     Rubio +4 2013-03-30\n",
       "167            PPP (D)   508 RV   NaN  NaN    NaN     Rubio +9 2013-02-03\n",
       "168            PPP (D)   563 RV   NaN  NaN    NaN     Rubio +6 2013-01-06\n",
       "169            PPP (D)   475 RV   NaN  NaN    NaN     Rubio +4 2012-12-02"
      ]
     },
     "execution_count": 133,
     "metadata": {},
     "output_type": "execute_result"
    }
   ],
   "source": [
    "new_reps.tail(10)"
   ]
  },
  {
   "cell_type": "code",
   "execution_count": 134,
   "metadata": {},
   "outputs": [
    {
     "data": {
      "text/plain": [
       "Poll        0\n",
       "Sample      1\n",
       "Trump      58\n",
       "Cruz        7\n",
       "Kasich     38\n",
       "Spread      0\n",
       "newDate     0\n",
       "dtype: int64"
      ]
     },
     "execution_count": 134,
     "metadata": {},
     "output_type": "execute_result"
    }
   ],
   "source": [
    "new_reps.apply(lambda x : x.isnull().sum())"
   ]
  },
  {
   "cell_type": "code",
   "execution_count": 135,
   "metadata": {},
   "outputs": [
    {
     "data": {
      "text/plain": [
       "110   2015-05-10\n",
       "111   2015-04-30\n",
       "113   2015-04-21\n",
       "114   2015-04-19\n",
       "116   2015-03-29\n",
       "117   2015-03-31\n",
       "118   2015-03-15\n",
       "119   2015-03-04\n",
       "120   2015-03-02\n",
       "121   2015-02-22\n",
       "122   2015-02-15\n",
       "123   2015-01-27\n",
       "124   2014-12-21\n",
       "125   2014-12-14\n",
       "126   2014-12-09\n",
       "127   2014-11-23\n",
       "128   2014-11-23\n",
       "129   2014-11-21\n",
       "130   2014-10-12\n",
       "131   2014-09-29\n",
       "132   2014-08-04\n",
       "133   2014-07-22\n",
       "134   2014-07-20\n",
       "135   2014-06-30\n",
       "136   2014-06-01\n",
       "137   2014-05-04\n",
       "138   2014-04-27\n",
       "139   2014-04-15\n",
       "140   2014-04-10\n",
       "141   2014-03-30\n",
       "142   2014-03-20\n",
       "143   2014-03-09\n",
       "144   2014-03-09\n",
       "145   2014-02-09\n",
       "146   2014-02-02\n",
       "147   2014-01-26\n",
       "148   2014-01-23\n",
       "149   2014-01-19\n",
       "150   2014-01-14\n",
       "151   2013-12-16\n",
       "152   2013-12-15\n",
       "153   2013-12-09\n",
       "154   2013-12-05\n",
       "155   2013-11-20\n",
       "156   2013-11-08\n",
       "157   2013-10-31\n",
       "158   2013-09-29\n",
       "159   2013-09-26\n",
       "160   2013-09-08\n",
       "161   2013-08-02\n",
       "162   2013-07-21\n",
       "163   2013-07-18\n",
       "164   2013-05-09\n",
       "165   2013-04-01\n",
       "166   2013-03-30\n",
       "167   2013-02-03\n",
       "168   2013-01-06\n",
       "169   2012-12-02\n",
       "Name: newDate, dtype: datetime64[ns]"
      ]
     },
     "execution_count": 135,
     "metadata": {},
     "output_type": "execute_result"
    }
   ],
   "source": [
    "new_reps.newDate[new_reps.Trump.isnull()]"
   ]
  },
  {
   "cell_type": "code",
   "execution_count": 136,
   "metadata": {},
   "outputs": [
    {
     "data": {
      "text/plain": [
       "110   2015-05-10\n",
       "111   2015-04-30\n",
       "117   2015-03-31\n",
       "119   2015-03-04\n",
       "121   2015-02-22\n",
       "129   2014-11-21\n",
       "131   2014-09-29\n",
       "132   2014-08-04\n",
       "134   2014-07-20\n",
       "136   2014-06-01\n",
       "137   2014-05-04\n",
       "139   2014-04-15\n",
       "141   2014-03-30\n",
       "142   2014-03-20\n",
       "143   2014-03-09\n",
       "144   2014-03-09\n",
       "146   2014-02-02\n",
       "147   2014-01-26\n",
       "148   2014-01-23\n",
       "150   2014-01-14\n",
       "151   2013-12-16\n",
       "152   2013-12-15\n",
       "154   2013-12-05\n",
       "155   2013-11-20\n",
       "156   2013-11-08\n",
       "157   2013-10-31\n",
       "158   2013-09-29\n",
       "159   2013-09-26\n",
       "160   2013-09-08\n",
       "161   2013-08-02\n",
       "162   2013-07-21\n",
       "163   2013-07-18\n",
       "164   2013-05-09\n",
       "165   2013-04-01\n",
       "166   2013-03-30\n",
       "167   2013-02-03\n",
       "168   2013-01-06\n",
       "169   2012-12-02\n",
       "Name: newDate, dtype: datetime64[ns]"
      ]
     },
     "execution_count": 136,
     "metadata": {},
     "output_type": "execute_result"
    }
   ],
   "source": [
    "new_reps.newDate[new_reps.Kasich.isnull()]"
   ]
  },
  {
   "cell_type": "code",
   "execution_count": 137,
   "metadata": {},
   "outputs": [
    {
     "data": {
      "text/plain": [
       "129   2014-11-21\n",
       "161   2013-08-02\n",
       "165   2013-04-01\n",
       "166   2013-03-30\n",
       "167   2013-02-03\n",
       "168   2013-01-06\n",
       "169   2012-12-02\n",
       "Name: newDate, dtype: datetime64[ns]"
      ]
     },
     "execution_count": 137,
     "metadata": {},
     "output_type": "execute_result"
    }
   ],
   "source": [
    "new_reps.newDate[new_reps.Cruz.isnull()]"
   ]
  },
  {
   "cell_type": "code",
   "execution_count": 138,
   "metadata": {},
   "outputs": [
    {
     "data": {
      "text/plain": [
       "count    111.000000\n",
       "mean      28.495495\n",
       "std       11.229728\n",
       "min        1.000000\n",
       "25%       24.000000\n",
       "50%       28.000000\n",
       "75%       36.000000\n",
       "max       49.000000\n",
       "Name: Trump, dtype: float64"
      ]
     },
     "execution_count": 138,
     "metadata": {},
     "output_type": "execute_result"
    }
   ],
   "source": [
    "new_reps.Trump.astype(\"float64\").describe()"
   ]
  },
  {
   "cell_type": "code",
   "execution_count": 139,
   "metadata": {},
   "outputs": [
    {
     "data": {
      "text/plain": [
       "count    131.000000\n",
       "mean       5.633588\n",
       "std        6.535355\n",
       "min        0.000000\n",
       "25%        2.000000\n",
       "50%        3.000000\n",
       "75%        5.000000\n",
       "max       25.000000\n",
       "Name: Kasich, dtype: float64"
      ]
     },
     "execution_count": 139,
     "metadata": {},
     "output_type": "execute_result"
    }
   ],
   "source": [
    "new_reps.Kasich.astype(\"float64\").describe()"
   ]
  },
  {
   "cell_type": "code",
   "execution_count": 140,
   "metadata": {},
   "outputs": [
    {
     "data": {
      "text/plain": [
       "count    162.000000\n",
       "mean      12.740741\n",
       "std        8.460765\n",
       "min        3.000000\n",
       "25%        6.000000\n",
       "50%        9.000000\n",
       "75%       18.000000\n",
       "max       38.000000\n",
       "Name: Cruz, dtype: float64"
      ]
     },
     "execution_count": 140,
     "metadata": {},
     "output_type": "execute_result"
    }
   ],
   "source": [
    "new_reps.Cruz.astype(\"float64\").describe()"
   ]
  },
  {
   "cell_type": "code",
   "execution_count": 141,
   "metadata": {},
   "outputs": [
    {
     "data": {
      "text/plain": [
       "527"
      ]
     },
     "execution_count": 141,
     "metadata": {},
     "output_type": "execute_result"
    }
   ],
   "source": [
    "(new_reps.newDate[1] - max(new_reps.newDate[new_reps.Cruz.isnull()])).components.days\n"
   ]
  },
  {
   "cell_type": "markdown",
   "metadata": {},
   "source": [
    "### Calculate Campaign Length, up until national convention\n"
   ]
  },
  {
   "cell_type": "code",
   "execution_count": 142,
   "metadata": {
    "collapsed": true
   },
   "outputs": [],
   "source": [
    "dict_of_lengths = {'Trump' : (new_reps.newDate[1] - max(new_reps.newDate[new_reps.Trump.isnull()])).components.days, \\\n",
    "                   'Cruz' : (new_reps.newDate[1] - max(new_reps.newDate[new_reps.Cruz.isnull()])).components.days, \\\n",
    "                   'Kasich' : (new_reps.newDate[1] - max(new_reps.newDate[new_reps.Trump.isnull()])).components.days, \\\n",
    "                   'Clinton' : (new_dems.newDate[1] - min(new_dems.newDate)).components.days, \\\n",
    "                   'Sanders' : (new_dems.newDate[1] - max(new_dems.newDate[new_dems.Sanders.isnull()])).components.days\n",
    "                  }\n",
    "campaign_length = pd.DataFrame.from_dict(dict_of_lengths, orient = 'index').transpose()\n",
    "campaign_length.to_csv(\"../data/campaign_length.csv\")"
   ]
  },
  {
   "cell_type": "code",
   "execution_count": null,
   "metadata": {
    "collapsed": true
   },
   "outputs": [],
   "source": []
  }
 ],
 "metadata": {
  "kernelspec": {
   "display_name": "Python 3",
   "language": "python",
   "name": "python3"
  },
  "language_info": {
   "codemirror_mode": {
    "name": "ipython",
    "version": 3
   },
   "file_extension": ".py",
   "mimetype": "text/x-python",
   "name": "python",
   "nbconvert_exporter": "python",
   "pygments_lexer": "ipython3",
   "version": "3.6.3"
  }
 },
 "nbformat": 4,
 "nbformat_minor": 2
}
